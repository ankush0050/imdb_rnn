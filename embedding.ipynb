{
 "cells": [
  {
   "cell_type": "code",
   "execution_count": 7,
   "metadata": {},
   "outputs": [],
   "source": [
    "from tensorflow.keras.preprocessing.text import one_hot"
   ]
  },
  {
   "cell_type": "code",
   "execution_count": 8,
   "metadata": {},
   "outputs": [],
   "source": [
    "### sentences\n",
    "sent=[  'the glass of milk',\n",
    "     'the glass of juice',\n",
    "     'the cup of tea',\n",
    "    'I am a good boy',\n",
    "     'I am a good developer',\n",
    "     'understand the meaning of words',\n",
    "     'your videos are good',]"
   ]
  },
  {
   "cell_type": "code",
   "execution_count": 9,
   "metadata": {},
   "outputs": [
    {
     "data": {
      "text/plain": [
       "['the glass of milk',\n",
       " 'the glass of juice',\n",
       " 'the cup of tea',\n",
       " 'I am a good boy',\n",
       " 'I am a good developer',\n",
       " 'understand the meaning of words',\n",
       " 'your videos are good']"
      ]
     },
     "execution_count": 9,
     "metadata": {},
     "output_type": "execute_result"
    }
   ],
   "source": [
    "sent"
   ]
  },
  {
   "cell_type": "code",
   "execution_count": 10,
   "metadata": {},
   "outputs": [],
   "source": [
    "## Define the vocabulary size\n",
    "voc_size=10000"
   ]
  },
  {
   "cell_type": "code",
   "execution_count": 11,
   "metadata": {},
   "outputs": [
    {
     "data": {
      "text/plain": [
       "['the glass of milk',\n",
       " 'the glass of juice',\n",
       " 'the cup of tea',\n",
       " 'I am a good boy',\n",
       " 'I am a good developer',\n",
       " 'understand the meaning of words',\n",
       " 'your videos are good']"
      ]
     },
     "execution_count": 11,
     "metadata": {},
     "output_type": "execute_result"
    }
   ],
   "source": [
    "sent"
   ]
  },
  {
   "cell_type": "code",
   "execution_count": 12,
   "metadata": {},
   "outputs": [
    {
     "data": {
      "text/plain": [
       "[[274, 6742, 326, 7190],\n",
       " [274, 6742, 326, 5506],\n",
       " [274, 3241, 326, 6491],\n",
       " [9032, 5999, 8807, 9676, 5188],\n",
       " [9032, 5999, 8807, 9676, 1834],\n",
       " [1833, 274, 9481, 326, 3343],\n",
       " [6198, 4586, 1453, 9676]]"
      ]
     },
     "execution_count": 12,
     "metadata": {},
     "output_type": "execute_result"
    }
   ],
   "source": [
    "### One Hot Representation\n",
    "one_hot_repr=[one_hot(words,voc_size)for words in sent]\n",
    "one_hot_repr"
   ]
  },
  {
   "cell_type": "code",
   "execution_count": 13,
   "metadata": {},
   "outputs": [],
   "source": [
    "## word Embedding Representation\n",
    "\n",
    "from tensorflow.keras.layers import Embedding\n",
    "#from tensorflow.keras.processing.sequence import pad_sequences\n",
    "from tensorflow.keras.utils import pad_sequences\n",
    "from tensorflow.keras.models import Sequential"
   ]
  },
  {
   "cell_type": "code",
   "execution_count": 14,
   "metadata": {},
   "outputs": [],
   "source": [
    "import numpy as np"
   ]
  },
  {
   "cell_type": "code",
   "execution_count": 15,
   "metadata": {},
   "outputs": [
    {
     "name": "stdout",
     "output_type": "stream",
     "text": [
      "[[   0    0    0    0  274 6742  326 7190]\n",
      " [   0    0    0    0  274 6742  326 5506]\n",
      " [   0    0    0    0  274 3241  326 6491]\n",
      " [   0    0    0 9032 5999 8807 9676 5188]\n",
      " [   0    0    0 9032 5999 8807 9676 1834]\n",
      " [   0    0    0 1833  274 9481  326 3343]\n",
      " [   0    0    0    0 6198 4586 1453 9676]]\n"
     ]
    }
   ],
   "source": [
    "sent_length=8\n",
    "embedded_docs=pad_sequences(one_hot_repr,padding='pre',maxlen=sent_length)\n",
    "print(embedded_docs)"
   ]
  },
  {
   "cell_type": "code",
   "execution_count": 16,
   "metadata": {},
   "outputs": [],
   "source": [
    "## feature representation\n",
    "dim=10"
   ]
  },
  {
   "cell_type": "code",
   "execution_count": 17,
   "metadata": {},
   "outputs": [
    {
     "name": "stderr",
     "output_type": "stream",
     "text": [
      "c:\\Users\\om\\OneDrive\\Desktop\\Network security\\venv\\lib\\site-packages\\keras\\src\\layers\\core\\embedding.py:97: UserWarning: Argument `input_length` is deprecated. Just remove it.\n",
      "  warnings.warn(\n"
     ]
    }
   ],
   "source": [
    "model=Sequential()\n",
    "model.add(Embedding(voc_size,dim,input_length=sent_length))\n",
    "model.compile('adam','mse')"
   ]
  },
  {
   "cell_type": "code",
   "execution_count": 18,
   "metadata": {},
   "outputs": [
    {
     "data": {
      "text/html": [
       "<pre style=\"white-space:pre;overflow-x:auto;line-height:normal;font-family:Menlo,'DejaVu Sans Mono',consolas,'Courier New',monospace\"><span style=\"font-weight: bold\">Model: \"sequential\"</span>\n",
       "</pre>\n"
      ],
      "text/plain": [
       "\u001b[1mModel: \"sequential\"\u001b[0m\n"
      ]
     },
     "metadata": {},
     "output_type": "display_data"
    },
    {
     "data": {
      "text/html": [
       "<pre style=\"white-space:pre;overflow-x:auto;line-height:normal;font-family:Menlo,'DejaVu Sans Mono',consolas,'Courier New',monospace\">┏━━━━━━━━━━━━━━━━━━━━━━━━━━━━━━━━━┳━━━━━━━━━━━━━━━━━━━━━━━━┳━━━━━━━━━━━━━━━┓\n",
       "┃<span style=\"font-weight: bold\"> Layer (type)                    </span>┃<span style=\"font-weight: bold\"> Output Shape           </span>┃<span style=\"font-weight: bold\">       Param # </span>┃\n",
       "┡━━━━━━━━━━━━━━━━━━━━━━━━━━━━━━━━━╇━━━━━━━━━━━━━━━━━━━━━━━━╇━━━━━━━━━━━━━━━┩\n",
       "│ embedding (<span style=\"color: #0087ff; text-decoration-color: #0087ff\">Embedding</span>)           │ ?                      │   <span style=\"color: #00af00; text-decoration-color: #00af00\">0</span> (unbuilt) │\n",
       "└─────────────────────────────────┴────────────────────────┴───────────────┘\n",
       "</pre>\n"
      ],
      "text/plain": [
       "┏━━━━━━━━━━━━━━━━━━━━━━━━━━━━━━━━━┳━━━━━━━━━━━━━━━━━━━━━━━━┳━━━━━━━━━━━━━━━┓\n",
       "┃\u001b[1m \u001b[0m\u001b[1mLayer (type)                   \u001b[0m\u001b[1m \u001b[0m┃\u001b[1m \u001b[0m\u001b[1mOutput Shape          \u001b[0m\u001b[1m \u001b[0m┃\u001b[1m \u001b[0m\u001b[1m      Param #\u001b[0m\u001b[1m \u001b[0m┃\n",
       "┡━━━━━━━━━━━━━━━━━━━━━━━━━━━━━━━━━╇━━━━━━━━━━━━━━━━━━━━━━━━╇━━━━━━━━━━━━━━━┩\n",
       "│ embedding (\u001b[38;5;33mEmbedding\u001b[0m)           │ ?                      │   \u001b[38;5;34m0\u001b[0m (unbuilt) │\n",
       "└─────────────────────────────────┴────────────────────────┴───────────────┘\n"
      ]
     },
     "metadata": {},
     "output_type": "display_data"
    },
    {
     "data": {
      "text/html": [
       "<pre style=\"white-space:pre;overflow-x:auto;line-height:normal;font-family:Menlo,'DejaVu Sans Mono',consolas,'Courier New',monospace\"><span style=\"font-weight: bold\"> Total params: </span><span style=\"color: #00af00; text-decoration-color: #00af00\">0</span> (0.00 B)\n",
       "</pre>\n"
      ],
      "text/plain": [
       "\u001b[1m Total params: \u001b[0m\u001b[38;5;34m0\u001b[0m (0.00 B)\n"
      ]
     },
     "metadata": {},
     "output_type": "display_data"
    },
    {
     "data": {
      "text/html": [
       "<pre style=\"white-space:pre;overflow-x:auto;line-height:normal;font-family:Menlo,'DejaVu Sans Mono',consolas,'Courier New',monospace\"><span style=\"font-weight: bold\"> Trainable params: </span><span style=\"color: #00af00; text-decoration-color: #00af00\">0</span> (0.00 B)\n",
       "</pre>\n"
      ],
      "text/plain": [
       "\u001b[1m Trainable params: \u001b[0m\u001b[38;5;34m0\u001b[0m (0.00 B)\n"
      ]
     },
     "metadata": {},
     "output_type": "display_data"
    },
    {
     "data": {
      "text/html": [
       "<pre style=\"white-space:pre;overflow-x:auto;line-height:normal;font-family:Menlo,'DejaVu Sans Mono',consolas,'Courier New',monospace\"><span style=\"font-weight: bold\"> Non-trainable params: </span><span style=\"color: #00af00; text-decoration-color: #00af00\">0</span> (0.00 B)\n",
       "</pre>\n"
      ],
      "text/plain": [
       "\u001b[1m Non-trainable params: \u001b[0m\u001b[38;5;34m0\u001b[0m (0.00 B)\n"
      ]
     },
     "metadata": {},
     "output_type": "display_data"
    }
   ],
   "source": [
    "model.summary()"
   ]
  },
  {
   "cell_type": "code",
   "execution_count": 19,
   "metadata": {},
   "outputs": [
    {
     "name": "stdout",
     "output_type": "stream",
     "text": [
      "\u001b[1m1/1\u001b[0m \u001b[32m━━━━━━━━━━━━━━━━━━━━\u001b[0m\u001b[37m\u001b[0m \u001b[1m2s\u001b[0m 2s/step\n"
     ]
    },
    {
     "data": {
      "text/plain": [
       "array([[[-0.01323379,  0.03653565,  0.03527695, -0.04701488,\n",
       "         -0.00962775, -0.00915177, -0.04973343,  0.03147311,\n",
       "         -0.04199455,  0.01983353],\n",
       "        [-0.01323379,  0.03653565,  0.03527695, -0.04701488,\n",
       "         -0.00962775, -0.00915177, -0.04973343,  0.03147311,\n",
       "         -0.04199455,  0.01983353],\n",
       "        [-0.01323379,  0.03653565,  0.03527695, -0.04701488,\n",
       "         -0.00962775, -0.00915177, -0.04973343,  0.03147311,\n",
       "         -0.04199455,  0.01983353],\n",
       "        [-0.01323379,  0.03653565,  0.03527695, -0.04701488,\n",
       "         -0.00962775, -0.00915177, -0.04973343,  0.03147311,\n",
       "         -0.04199455,  0.01983353],\n",
       "        [-0.03444127, -0.04892569,  0.0415051 ,  0.00467945,\n",
       "         -0.01652174, -0.00900779, -0.00256183,  0.04736609,\n",
       "         -0.00927512,  0.00519166],\n",
       "        [ 0.03770122,  0.02997491,  0.00560139, -0.03113472,\n",
       "         -0.02809341, -0.03765436,  0.00935072, -0.00834478,\n",
       "         -0.02622631, -0.00912924],\n",
       "        [-0.01403588,  0.04641867, -0.00745331, -0.01957985,\n",
       "          0.03575904,  0.00845337,  0.01351025,  0.00402264,\n",
       "          0.01237606,  0.04858804],\n",
       "        [-0.01870452, -0.03407953, -0.03627859,  0.00529759,\n",
       "         -0.00162961,  0.00563407,  0.01842118,  0.01608119,\n",
       "          0.00876646,  0.04928554]],\n",
       "\n",
       "       [[-0.01323379,  0.03653565,  0.03527695, -0.04701488,\n",
       "         -0.00962775, -0.00915177, -0.04973343,  0.03147311,\n",
       "         -0.04199455,  0.01983353],\n",
       "        [-0.01323379,  0.03653565,  0.03527695, -0.04701488,\n",
       "         -0.00962775, -0.00915177, -0.04973343,  0.03147311,\n",
       "         -0.04199455,  0.01983353],\n",
       "        [-0.01323379,  0.03653565,  0.03527695, -0.04701488,\n",
       "         -0.00962775, -0.00915177, -0.04973343,  0.03147311,\n",
       "         -0.04199455,  0.01983353],\n",
       "        [-0.01323379,  0.03653565,  0.03527695, -0.04701488,\n",
       "         -0.00962775, -0.00915177, -0.04973343,  0.03147311,\n",
       "         -0.04199455,  0.01983353],\n",
       "        [-0.03444127, -0.04892569,  0.0415051 ,  0.00467945,\n",
       "         -0.01652174, -0.00900779, -0.00256183,  0.04736609,\n",
       "         -0.00927512,  0.00519166],\n",
       "        [ 0.03770122,  0.02997491,  0.00560139, -0.03113472,\n",
       "         -0.02809341, -0.03765436,  0.00935072, -0.00834478,\n",
       "         -0.02622631, -0.00912924],\n",
       "        [-0.01403588,  0.04641867, -0.00745331, -0.01957985,\n",
       "          0.03575904,  0.00845337,  0.01351025,  0.00402264,\n",
       "          0.01237606,  0.04858804],\n",
       "        [ 0.00599999,  0.01879529, -0.04689021, -0.01012431,\n",
       "          0.02314335,  0.02065355,  0.00416739, -0.00837138,\n",
       "          0.03267146, -0.00349877]],\n",
       "\n",
       "       [[-0.01323379,  0.03653565,  0.03527695, -0.04701488,\n",
       "         -0.00962775, -0.00915177, -0.04973343,  0.03147311,\n",
       "         -0.04199455,  0.01983353],\n",
       "        [-0.01323379,  0.03653565,  0.03527695, -0.04701488,\n",
       "         -0.00962775, -0.00915177, -0.04973343,  0.03147311,\n",
       "         -0.04199455,  0.01983353],\n",
       "        [-0.01323379,  0.03653565,  0.03527695, -0.04701488,\n",
       "         -0.00962775, -0.00915177, -0.04973343,  0.03147311,\n",
       "         -0.04199455,  0.01983353],\n",
       "        [-0.01323379,  0.03653565,  0.03527695, -0.04701488,\n",
       "         -0.00962775, -0.00915177, -0.04973343,  0.03147311,\n",
       "         -0.04199455,  0.01983353],\n",
       "        [-0.03444127, -0.04892569,  0.0415051 ,  0.00467945,\n",
       "         -0.01652174, -0.00900779, -0.00256183,  0.04736609,\n",
       "         -0.00927512,  0.00519166],\n",
       "        [ 0.01334211, -0.01711201,  0.03920561, -0.00847864,\n",
       "         -0.0497831 , -0.03245427,  0.02663283,  0.04732421,\n",
       "         -0.01777988, -0.03489938],\n",
       "        [-0.01403588,  0.04641867, -0.00745331, -0.01957985,\n",
       "          0.03575904,  0.00845337,  0.01351025,  0.00402264,\n",
       "          0.01237606,  0.04858804],\n",
       "        [-0.01126428, -0.00668047, -0.02957692,  0.04415676,\n",
       "         -0.01440227, -0.02854666,  0.01920472, -0.04204256,\n",
       "          0.04557946,  0.00646127]],\n",
       "\n",
       "       [[-0.01323379,  0.03653565,  0.03527695, -0.04701488,\n",
       "         -0.00962775, -0.00915177, -0.04973343,  0.03147311,\n",
       "         -0.04199455,  0.01983353],\n",
       "        [-0.01323379,  0.03653565,  0.03527695, -0.04701488,\n",
       "         -0.00962775, -0.00915177, -0.04973343,  0.03147311,\n",
       "         -0.04199455,  0.01983353],\n",
       "        [-0.01323379,  0.03653565,  0.03527695, -0.04701488,\n",
       "         -0.00962775, -0.00915177, -0.04973343,  0.03147311,\n",
       "         -0.04199455,  0.01983353],\n",
       "        [-0.04308543,  0.04269643, -0.02313899, -0.0066378 ,\n",
       "         -0.00694289,  0.04432161,  0.0035866 , -0.02837154,\n",
       "          0.01315731, -0.00348104],\n",
       "        [-0.02250148,  0.02243168,  0.03858663,  0.00534343,\n",
       "         -0.04772122, -0.04144132,  0.02549144,  0.02230395,\n",
       "         -0.04981325,  0.0494988 ],\n",
       "        [-0.02942534,  0.00095053,  0.04866749, -0.02218094,\n",
       "         -0.04409789,  0.00394938,  0.03334603,  0.03914938,\n",
       "         -0.03493233,  0.01547955],\n",
       "        [ 0.01040376,  0.00663478,  0.04427766,  0.00105141,\n",
       "          0.02088424, -0.04342688, -0.01460207,  0.01380904,\n",
       "         -0.04711201, -0.04148077],\n",
       "        [-0.03018465, -0.0031612 , -0.0003103 , -0.02484046,\n",
       "         -0.02481797,  0.03042922, -0.02805171,  0.01134492,\n",
       "          0.04478199,  0.02339944]],\n",
       "\n",
       "       [[-0.01323379,  0.03653565,  0.03527695, -0.04701488,\n",
       "         -0.00962775, -0.00915177, -0.04973343,  0.03147311,\n",
       "         -0.04199455,  0.01983353],\n",
       "        [-0.01323379,  0.03653565,  0.03527695, -0.04701488,\n",
       "         -0.00962775, -0.00915177, -0.04973343,  0.03147311,\n",
       "         -0.04199455,  0.01983353],\n",
       "        [-0.01323379,  0.03653565,  0.03527695, -0.04701488,\n",
       "         -0.00962775, -0.00915177, -0.04973343,  0.03147311,\n",
       "         -0.04199455,  0.01983353],\n",
       "        [-0.04308543,  0.04269643, -0.02313899, -0.0066378 ,\n",
       "         -0.00694289,  0.04432161,  0.0035866 , -0.02837154,\n",
       "          0.01315731, -0.00348104],\n",
       "        [-0.02250148,  0.02243168,  0.03858663,  0.00534343,\n",
       "         -0.04772122, -0.04144132,  0.02549144,  0.02230395,\n",
       "         -0.04981325,  0.0494988 ],\n",
       "        [-0.02942534,  0.00095053,  0.04866749, -0.02218094,\n",
       "         -0.04409789,  0.00394938,  0.03334603,  0.03914938,\n",
       "         -0.03493233,  0.01547955],\n",
       "        [ 0.01040376,  0.00663478,  0.04427766,  0.00105141,\n",
       "          0.02088424, -0.04342688, -0.01460207,  0.01380904,\n",
       "         -0.04711201, -0.04148077],\n",
       "        [-0.01431141,  0.03946512,  0.01223833,  0.02665843,\n",
       "          0.03324519, -0.03825947,  0.04008589,  0.04245583,\n",
       "         -0.00303135, -0.00664687]],\n",
       "\n",
       "       [[-0.01323379,  0.03653565,  0.03527695, -0.04701488,\n",
       "         -0.00962775, -0.00915177, -0.04973343,  0.03147311,\n",
       "         -0.04199455,  0.01983353],\n",
       "        [-0.01323379,  0.03653565,  0.03527695, -0.04701488,\n",
       "         -0.00962775, -0.00915177, -0.04973343,  0.03147311,\n",
       "         -0.04199455,  0.01983353],\n",
       "        [-0.01323379,  0.03653565,  0.03527695, -0.04701488,\n",
       "         -0.00962775, -0.00915177, -0.04973343,  0.03147311,\n",
       "         -0.04199455,  0.01983353],\n",
       "        [ 0.03379686, -0.01342447, -0.04694107, -0.02365799,\n",
       "          0.02046958, -0.04473746,  0.04030906, -0.03548496,\n",
       "          0.03408859, -0.04608971],\n",
       "        [-0.03444127, -0.04892569,  0.0415051 ,  0.00467945,\n",
       "         -0.01652174, -0.00900779, -0.00256183,  0.04736609,\n",
       "         -0.00927512,  0.00519166],\n",
       "        [ 0.02236162, -0.02770985,  0.00213236,  0.00283811,\n",
       "          0.04240003,  0.02101063, -0.01343471, -0.04990486,\n",
       "         -0.00757933, -0.04414878],\n",
       "        [-0.01403588,  0.04641867, -0.00745331, -0.01957985,\n",
       "          0.03575904,  0.00845337,  0.01351025,  0.00402264,\n",
       "          0.01237606,  0.04858804],\n",
       "        [-0.04640023, -0.01413274,  0.01071294,  0.02912306,\n",
       "         -0.0271127 , -0.03295727,  0.04953608, -0.02806553,\n",
       "         -0.01764908,  0.00082286]],\n",
       "\n",
       "       [[-0.01323379,  0.03653565,  0.03527695, -0.04701488,\n",
       "         -0.00962775, -0.00915177, -0.04973343,  0.03147311,\n",
       "         -0.04199455,  0.01983353],\n",
       "        [-0.01323379,  0.03653565,  0.03527695, -0.04701488,\n",
       "         -0.00962775, -0.00915177, -0.04973343,  0.03147311,\n",
       "         -0.04199455,  0.01983353],\n",
       "        [-0.01323379,  0.03653565,  0.03527695, -0.04701488,\n",
       "         -0.00962775, -0.00915177, -0.04973343,  0.03147311,\n",
       "         -0.04199455,  0.01983353],\n",
       "        [-0.01323379,  0.03653565,  0.03527695, -0.04701488,\n",
       "         -0.00962775, -0.00915177, -0.04973343,  0.03147311,\n",
       "         -0.04199455,  0.01983353],\n",
       "        [-0.02306883, -0.0473716 , -0.03799015,  0.02922734,\n",
       "          0.04030982,  0.01620307, -0.03336839, -0.0029823 ,\n",
       "          0.04856566, -0.00512836],\n",
       "        [ 0.03243687,  0.04697056, -0.00085189, -0.00095027,\n",
       "          0.02721287,  0.03114453,  0.01762271, -0.00319659,\n",
       "          0.03449782,  0.02184271],\n",
       "        [ 0.04100477, -0.03962515, -0.00536425, -0.04282271,\n",
       "         -0.01510542, -0.02818427, -0.00294417, -0.03663843,\n",
       "          0.00661949, -0.03920028],\n",
       "        [ 0.01040376,  0.00663478,  0.04427766,  0.00105141,\n",
       "          0.02088424, -0.04342688, -0.01460207,  0.01380904,\n",
       "         -0.04711201, -0.04148077]]], dtype=float32)"
      ]
     },
     "execution_count": 19,
     "metadata": {},
     "output_type": "execute_result"
    }
   ],
   "source": [
    "model.predict(embedded_docs)"
   ]
  },
  {
   "cell_type": "code",
   "execution_count": 20,
   "metadata": {},
   "outputs": [
    {
     "data": {
      "text/plain": [
       "array([   0,    0,    0,    0,  274, 6742,  326, 7190])"
      ]
     },
     "execution_count": 20,
     "metadata": {},
     "output_type": "execute_result"
    }
   ],
   "source": [
    "embedded_docs[0]"
   ]
  },
  {
   "cell_type": "code",
   "execution_count": 21,
   "metadata": {},
   "outputs": [
    {
     "ename": "ValueError",
     "evalue": "Exception encountered when calling Sequential.call().\n\n\u001b[1mCannot take the length of shape with unknown rank.\u001b[0m\n\nArguments received by Sequential.call():\n  • inputs=tf.Tensor(shape=<unknown>, dtype=int32)\n  • training=False\n  • mask=None\n  • kwargs=<class 'inspect._empty'>",
     "output_type": "error",
     "traceback": [
      "\u001b[1;31m---------------------------------------------------------------------------\u001b[0m",
      "\u001b[1;31mValueError\u001b[0m                                Traceback (most recent call last)",
      "Cell \u001b[1;32mIn[21], line 1\u001b[0m\n\u001b[1;32m----> 1\u001b[0m \u001b[43mmodel\u001b[49m\u001b[38;5;241;43m.\u001b[39;49m\u001b[43mpredict\u001b[49m\u001b[43m(\u001b[49m\u001b[43membedded_docs\u001b[49m\u001b[43m[\u001b[49m\u001b[38;5;241;43m0\u001b[39;49m\u001b[43m]\u001b[49m\u001b[43m)\u001b[49m\n",
      "File \u001b[1;32mc:\\Users\\om\\OneDrive\\Desktop\\Network security\\venv\\lib\\site-packages\\keras\\src\\utils\\traceback_utils.py:122\u001b[0m, in \u001b[0;36mfilter_traceback.<locals>.error_handler\u001b[1;34m(*args, **kwargs)\u001b[0m\n\u001b[0;32m    119\u001b[0m     filtered_tb \u001b[38;5;241m=\u001b[39m _process_traceback_frames(e\u001b[38;5;241m.\u001b[39m__traceback__)\n\u001b[0;32m    120\u001b[0m     \u001b[38;5;66;03m# To get the full stack trace, call:\u001b[39;00m\n\u001b[0;32m    121\u001b[0m     \u001b[38;5;66;03m# `keras.config.disable_traceback_filtering()`\u001b[39;00m\n\u001b[1;32m--> 122\u001b[0m     \u001b[38;5;28;01mraise\u001b[39;00m e\u001b[38;5;241m.\u001b[39mwith_traceback(filtered_tb) \u001b[38;5;28;01mfrom\u001b[39;00m\u001b[38;5;250m \u001b[39m\u001b[38;5;28;01mNone\u001b[39;00m\n\u001b[0;32m    123\u001b[0m \u001b[38;5;28;01mfinally\u001b[39;00m:\n\u001b[0;32m    124\u001b[0m     \u001b[38;5;28;01mdel\u001b[39;00m filtered_tb\n",
      "File \u001b[1;32mc:\\Users\\om\\OneDrive\\Desktop\\Network security\\venv\\lib\\site-packages\\keras\\src\\utils\\traceback_utils.py:122\u001b[0m, in \u001b[0;36mfilter_traceback.<locals>.error_handler\u001b[1;34m(*args, **kwargs)\u001b[0m\n\u001b[0;32m    119\u001b[0m     filtered_tb \u001b[38;5;241m=\u001b[39m _process_traceback_frames(e\u001b[38;5;241m.\u001b[39m__traceback__)\n\u001b[0;32m    120\u001b[0m     \u001b[38;5;66;03m# To get the full stack trace, call:\u001b[39;00m\n\u001b[0;32m    121\u001b[0m     \u001b[38;5;66;03m# `keras.config.disable_traceback_filtering()`\u001b[39;00m\n\u001b[1;32m--> 122\u001b[0m     \u001b[38;5;28;01mraise\u001b[39;00m e\u001b[38;5;241m.\u001b[39mwith_traceback(filtered_tb) \u001b[38;5;28;01mfrom\u001b[39;00m\u001b[38;5;250m \u001b[39m\u001b[38;5;28;01mNone\u001b[39;00m\n\u001b[0;32m    123\u001b[0m \u001b[38;5;28;01mfinally\u001b[39;00m:\n\u001b[0;32m    124\u001b[0m     \u001b[38;5;28;01mdel\u001b[39;00m filtered_tb\n",
      "\u001b[1;31mValueError\u001b[0m: Exception encountered when calling Sequential.call().\n\n\u001b[1mCannot take the length of shape with unknown rank.\u001b[0m\n\nArguments received by Sequential.call():\n  • inputs=tf.Tensor(shape=<unknown>, dtype=int32)\n  • training=False\n  • mask=None\n  • kwargs=<class 'inspect._empty'>"
     ]
    }
   ],
   "source": [
    "model.predict(embedded_docs[0])"
   ]
  },
  {
   "cell_type": "code",
   "execution_count": null,
   "metadata": {},
   "outputs": [],
   "source": []
  }
 ],
 "metadata": {
  "kernelspec": {
   "display_name": "Python 3",
   "language": "python",
   "name": "python3"
  },
  "language_info": {
   "codemirror_mode": {
    "name": "ipython",
    "version": 3
   },
   "file_extension": ".py",
   "mimetype": "text/x-python",
   "name": "python",
   "nbconvert_exporter": "python",
   "pygments_lexer": "ipython3",
   "version": "3.10.0"
  }
 },
 "nbformat": 4,
 "nbformat_minor": 2
}
